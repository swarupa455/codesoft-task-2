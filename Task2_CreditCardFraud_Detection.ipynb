{
  "cells": [
    {
      "cell_type": "markdown",
      "metadata": {
        "id": "view-in-github",
        "colab_type": "text"
      },
      "source": [
        "<a href=\"https://colab.research.google.com/github/sushmitha6145/CodSoft/blob/main/Task2_CreditCardFraud_Detection.ipynb\" target=\"_parent\"><img src=\"https://colab.research.google.com/assets/colab-badge.svg\" alt=\"Open In Colab\"/></a>"
      ]
    },
    {
      "cell_type": "markdown",
      "source": [
        "DataSet-(https://www.kaggle.com/datasets/kartik2112/fraud-detection)"
      ],
      "metadata": {
        "id": "tKIAmL6eVTEZ"
      }
    },
    {
      "cell_type": "code",
      "execution_count": null,
      "metadata": {
        "colab": {
          "background_save": true,
          "base_uri": "https://localhost:8080/"
        },
        "id": "rW4EOQ_QBxDe",
        "outputId": "4ea5593a-11ea-4898-d9c2-7db2b29b7956"
      },
      "outputs": [
        {
          "name": "stdout",
          "output_type": "stream",
          "text": [
            "Training Logistic Regression...\n",
            "Done training Logistic Regression\n",
            "Evaluation for Logistic Regression:\n",
            "[[320301     44]\n",
            " [  1494      0]]\n",
            "              precision    recall  f1-score   support\n",
            "\n",
            "         0.0       1.00      1.00      1.00    320345\n",
            "         1.0       0.00      0.00      0.00      1494\n",
            "\n",
            "    accuracy                           1.00    321839\n",
            "   macro avg       0.50      0.50      0.50    321839\n",
            "weighted avg       0.99      1.00      0.99    321839\n",
            "\n",
            "Training Random Forest...\n",
            "Done training Random Forest\n",
            "Evaluation for Random Forest:\n",
            "[[319847    498]\n",
            " [  1416     78]]\n",
            "              precision    recall  f1-score   support\n",
            "\n",
            "         0.0       1.00      1.00      1.00    320345\n",
            "         1.0       0.14      0.05      0.08      1494\n",
            "\n",
            "    accuracy                           0.99    321839\n",
            "   macro avg       0.57      0.53      0.54    321839\n",
            "weighted avg       0.99      0.99      0.99    321839\n",
            "\n"
          ]
        }
      ],
      "source": [
        "import pandas as pd\n",
        "from sklearn.preprocessing import StandardScaler\n",
        "from sklearn.impute import SimpleImputer\n",
        "from sklearn.linear_model import LogisticRegression\n",
        "from sklearn.ensemble import RandomForestClassifier\n",
        "from sklearn.metrics import classification_report, confusion_matrix\n",
        "\n",
        "# Load the training and testing datasets\n",
        "train_data = pd.read_csv('/content/fraudTrain.csv')\n",
        "test_data = pd.read_csv('/content/fraudTest.csv')\n",
        "\n",
        "# Identify numeric columns\n",
        "numeric_columns = train_data.select_dtypes(include=['number']).columns\n",
        "\n",
        "# Data preprocessing\n",
        "X_train = train_data[numeric_columns].drop('is_fraud', axis=1)\n",
        "y_train = train_data['is_fraud']\n",
        "\n",
        "X_test = test_data[numeric_columns].drop('is_fraud', axis=1)\n",
        "y_test = test_data['is_fraud']\n",
        "\n",
        "# Impute missing values with mean\n",
        "imputer = SimpleImputer(strategy='mean')\n",
        "X_train_imputed = imputer.fit_transform(X_train)\n",
        "X_test_imputed = imputer.transform(X_test)\n",
        "\n",
        "# Standardize features by removing the mean and scaling to unit variance\n",
        "scaler = StandardScaler()\n",
        "X_train_scaled = scaler.fit_transform(X_train_imputed)\n",
        "X_test_scaled = scaler.transform(X_test_imputed)\n",
        "\n",
        "# Drop rows with missing values in y_test\n",
        "missing_values_indices = y_test.index[y_test.isnull()]\n",
        "X_test_scaled = np.delete(X_test_scaled, missing_values_indices, axis=0)\n",
        "y_test = y_test.dropna()\n",
        "\n",
        "# Model selection and training\n",
        "models = {\n",
        "    \"Logistic Regression\": LogisticRegression(),\n",
        "    \"Random Forest\": RandomForestClassifier()\n",
        "}\n",
        "\n",
        "for name, model in models.items():\n",
        "    print(f\"Training {name}...\")\n",
        "    model.fit(X_train_scaled, y_train)\n",
        "    print(f\"Done training {name}\")\n",
        "\n",
        "    # Model evaluation\n",
        "    y_pred = model.predict(X_test_scaled)\n",
        "    print(f\"Evaluation for {name}:\")\n",
        "    print(confusion_matrix(y_test, y_pred))\n",
        "    print(classification_report(y_test, y_pred))\n"
      ]
    },
    {
      "cell_type": "code",
      "source": [],
      "metadata": {
        "id": "qU9VR6nSVQsS"
      },
      "execution_count": null,
      "outputs": []
    },
    {
      "cell_type": "code",
      "source": [],
      "metadata": {
        "id": "Elyxi8d4VQte"
      },
      "execution_count": null,
      "outputs": []
    }
  ],
  "metadata": {
    "colab": {
      "provenance": [],
      "authorship_tag": "ABX9TyOd0/QekybGZfodbpQtMZOg",
      "include_colab_link": true
    },
    "kernelspec": {
      "display_name": "Python 3",
      "name": "python3"
    },
    "language_info": {
      "name": "python"
    }
  },
  "nbformat": 4,
  "nbformat_minor": 0
}